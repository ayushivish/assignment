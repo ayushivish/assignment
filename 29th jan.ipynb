{
 "cells": [
  {
   "cell_type": "code",
   "execution_count": null,
   "id": "0f3c0547-43e3-425e-87f7-063f0123c8fe",
   "metadata": {},
   "outputs": [],
   "source": [
    "##ANS1:- pYTHON PROGRAMMING LANGUAGE WAS DEVELOPED BY \"Guido van rossum\" and first released on \n",
    "februrary 20,1991.\n",
    "\n",
    "ANS2:- Python support object oriented programming language.\n",
    "\n",
    "ANS3:- YES, python is case sensitive programming language when dealing with identifiers.\n",
    "\n",
    "ANS4:- Correct extension for python files - py,pyi\n",
    "\n",
    "ANS5:- Python is a interpreted programming language.\n",
    "\n",
    "ANS6:- A python program is constructed from code blocks. A block is a piece of python program text that is executed as a unit.\n",
    "the following are blocks : a module, a function body, a class defination.\n",
    "\n",
    "ANS7:- HASH(#) charachter is used to state a comment in python programming language.\n",
    "    \n",
    "ANS8:- The function sys.version can help us to find the version of python that we are currently working on.\n",
    "    \n",
    "ANS9:- Python supports to make anonymous functions which are not bound to a name at runtime . it uses a construct called\n",
    "    \"LAMBDA\" \n",
    "    \n",
    "ANS10:- pip stand for Prefered installer program\n",
    "    \n",
    "ANS11:- Built in functions in python:-\n",
    "    (1) bin():- return the binary version of a number\n",
    "    (2) bool():- return boolean value of the specified object.\n",
    "    (3) char():- return a character from the specified unicode\n",
    "    (4) dict():- return a dictionary (Array)\n",
    "\n",
    "Ans12:- An identifier can have a maximumlenght of 79 characters in python.\n",
    "    \n",
    "ANS13:- (1) python programming language is very simple and easy to write.\n",
    "        (2) easy synax.\n",
    "        \n",
    "ANS14:- Python uses a portion of memory for internal use and non-object memory.Another part of memory is used for python \n",
    "    object such as int,dict,list,etc. Memory management in python involves a private heap containig all python objects and \n",
    "    data structure.\n",
    "    \n",
    "    \n",
    "ANS15:- First of all u have to ensure that ou have the latest window updates and search the microsoft store app for\n",
    "         python 3.11. and install the app and workingon it.\n",
    "\n",
    "ANS16:- YES, indentation is required in python programming language.    \n",
    "    "
   ]
  }
 ],
 "metadata": {
  "kernelspec": {
   "display_name": "Python 3 (ipykernel)",
   "language": "python",
   "name": "python3"
  },
  "language_info": {
   "codemirror_mode": {
    "name": "ipython",
    "version": 3
   },
   "file_extension": ".py",
   "mimetype": "text/x-python",
   "name": "python",
   "nbconvert_exporter": "python",
   "pygments_lexer": "ipython3",
   "version": "3.10.8"
  }
 },
 "nbformat": 4,
 "nbformat_minor": 5
}
