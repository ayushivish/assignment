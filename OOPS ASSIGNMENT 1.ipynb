{
 "cells": [
  {
   "cell_type": "code",
   "execution_count": null,
   "id": "a3bded70-d098-4c4f-b392-ff410f6e7258",
   "metadata": {},
   "outputs": [],
   "source": [
    "Ans1:-Class is a blueprint or skelton.we can also say that class classifies the real word entity.Class defines the things in\n",
    "object oriented programming."
   ]
  },
  {
   "cell_type": "code",
   "execution_count": null,
   "id": "a674c557-5fbe-45e2-8cb7-191140ae3301",
   "metadata": {},
   "outputs": [],
   "source": [
    "object:-  Almost everythings in python is an object with it's properties."
   ]
  },
  {
   "cell_type": "code",
   "execution_count": 4,
   "id": "f7733108-b68b-492c-9fa5-b1fd5de56ac4",
   "metadata": {},
   "outputs": [],
   "source": [
    "class school :\n",
    "     \n",
    "        def score_math(self):\n",
    "            print(\"heighest score in the class\")\n",
    "    "
   ]
  },
  {
   "cell_type": "code",
   "execution_count": 5,
   "id": "5e311ff9-56f2-47ff-a18c-d8199630b7bd",
   "metadata": {},
   "outputs": [],
   "source": [
    "ayushi = school()"
   ]
  },
  {
   "cell_type": "code",
   "execution_count": 6,
   "id": "855802a5-53d7-437c-b3f1-d0843a63b104",
   "metadata": {},
   "outputs": [
    {
     "name": "stdout",
     "output_type": "stream",
     "text": [
      "<class '__main__.school'>\n"
     ]
    }
   ],
   "source": [
    "print(type(ayushi))"
   ]
  },
  {
   "cell_type": "code",
   "execution_count": 8,
   "id": "76a0b012-3a7e-4288-9f32-dd6248aa1a69",
   "metadata": {},
   "outputs": [
    {
     "name": "stdout",
     "output_type": "stream",
     "text": [
      "heighest score in the class\n"
     ]
    }
   ],
   "source": [
    "ayushi.score_math()"
   ]
  },
  {
   "cell_type": "code",
   "execution_count": null,
   "id": "fca02147-e149-420d-b1a5-2ca4f3279d78",
   "metadata": {},
   "outputs": [],
   "source": [
    "ANS 2:- four pillars of OOP's:-\n",
    "no:1- Inheritence\n",
    "no2:- Encapsulation\n",
    "no3:- Polymorphism\n",
    "no4:- Abstraction"
   ]
  },
  {
   "cell_type": "code",
   "execution_count": null,
   "id": "c269d7d0-084a-4fbf-9bb5-b53919c514bc",
   "metadata": {},
   "outputs": [],
   "source": [
    "ANS 3:- __init__ function is a constractor."
   ]
  },
  {
   "cell_type": "code",
   "execution_count": 10,
   "id": "3aafec8a-466d-409f-af6b-23ca4a49ccc4",
   "metadata": {},
   "outputs": [],
   "source": [
    "## __init__ function\n",
    "class company:\n",
    "    \n",
    "    def __init__(self , company_name, build_year, company_growth):\n",
    "        self.company_name = company_name\n",
    "        self.build_year   = build_year\n",
    "        self.company_growth = company_growth\n",
    "        \n",
    "    def return_company_deetails(self) :\n",
    "        return self.company_name , self.build_year , self.company_growth\n",
    "\n"
   ]
  },
  {
   "cell_type": "code",
   "execution_count": 12,
   "id": "eb793e5d-0ff6-4e77-b558-6fc7b8c3d5aa",
   "metadata": {},
   "outputs": [],
   "source": [
    "car1 = company(\"tata\", 1967, 8)"
   ]
  },
  {
   "cell_type": "code",
   "execution_count": 13,
   "id": "c8115d49-8362-48b1-873e-1084a40c454f",
   "metadata": {},
   "outputs": [
    {
     "data": {
      "text/plain": [
       "('tata', 1967, 8)"
      ]
     },
     "execution_count": 13,
     "metadata": {},
     "output_type": "execute_result"
    }
   ],
   "source": [
    "car1.return_company_deetails()"
   ]
  },
  {
   "cell_type": "code",
   "execution_count": 14,
   "id": "29aa440f-027b-4c70-9835-0b266e9dc6a0",
   "metadata": {},
   "outputs": [],
   "source": [
    "car2 = company(\"maruti\", 1977, 5 )"
   ]
  },
  {
   "cell_type": "code",
   "execution_count": 15,
   "id": "50be24df-a243-4976-bf26-e895d170d9ca",
   "metadata": {},
   "outputs": [
    {
     "data": {
      "text/plain": [
       "('maruti', 1977, 5)"
      ]
     },
     "execution_count": 15,
     "metadata": {},
     "output_type": "execute_result"
    }
   ],
   "source": [
    "car2.return_company_deetails()"
   ]
  },
  {
   "cell_type": "code",
   "execution_count": null,
   "id": "7260ffd5-ca48-490e-8250-3302eef4ad4c",
   "metadata": {},
   "outputs": [],
   "source": [
    "ANS 4:- SELF:- self parameter is a reference to the current varriable to the class, and is used to acces variable that belongs\n",
    "to the class."
   ]
  },
  {
   "cell_type": "code",
   "execution_count": null,
   "id": "63bb07fc-04b1-46fe-8e09-1014b0e3d262",
   "metadata": {},
   "outputs": [],
   "source": [
    "ANS 5:- INHERITANCE:-  when a class derived from another class. Thw child class will inherit all the \n",
    "public properties and methods from the parent class."
   ]
  },
  {
   "cell_type": "code",
   "execution_count": 1,
   "id": "a9db529b-235b-4435-9fd2-3aaccdd519fa",
   "metadata": {},
   "outputs": [],
   "source": [
    "## example of inheritance\n",
    "class car:\n",
    "     \n",
    "    def car_meth(self) :\n",
    "        return \"this is my new car\"\n",
    "    \n",
    "    "
   ]
  },
  {
   "cell_type": "code",
   "execution_count": 2,
   "id": "8b771150-292f-4258-a34b-9029e12408bf",
   "metadata": {},
   "outputs": [],
   "source": [
    "class child_car(car) :\n",
    "    pass"
   ]
  },
  {
   "cell_type": "code",
   "execution_count": 5,
   "id": "d1374e75-b9e6-4d38-b9a9-ebbdf73d897c",
   "metadata": {},
   "outputs": [],
   "source": [
    "child_car_obj = child_car()"
   ]
  },
  {
   "cell_type": "code",
   "execution_count": 6,
   "id": "22e6c185-bf80-4bb6-ba83-9869b57d424a",
   "metadata": {},
   "outputs": [
    {
     "data": {
      "text/plain": [
       "'this is my new car'"
      ]
     },
     "execution_count": 6,
     "metadata": {},
     "output_type": "execute_result"
    }
   ],
   "source": [
    "child_car_obj.car_meth()"
   ]
  },
  {
   "cell_type": "code",
   "execution_count": null,
   "id": "b66e07f0-2c08-43d2-bb30-8097ed99d9f0",
   "metadata": {},
   "outputs": [],
   "source": [
    "TYPES OF INHERITANCE:-  (1) Multi-level inheritance\n",
    "                        (2) Multiple inheritance"
   ]
  },
  {
   "cell_type": "code",
   "execution_count": 7,
   "id": "d315f5bb-ec35-4474-ab16-ea45663e5a59",
   "metadata": {},
   "outputs": [],
   "source": [
    "## multi-level inheritance\n",
    "class class1 :\n",
    "    def test_class1(self) :\n",
    "        return \"this is my first class\"\n",
    "    "
   ]
  },
  {
   "cell_type": "code",
   "execution_count": 8,
   "id": "812fc3d8-60a3-4393-ac79-12e9710d8966",
   "metadata": {},
   "outputs": [],
   "source": [
    "class class2(class1) :\n",
    "    def test_class2(self) :\n",
    "        return \"this is my second class\"\n",
    "        "
   ]
  },
  {
   "cell_type": "code",
   "execution_count": 9,
   "id": "37a44135-7fa5-4677-a995-a79b7c0f4278",
   "metadata": {},
   "outputs": [],
   "source": [
    "class class3(class2) :\n",
    "    pass"
   ]
  },
  {
   "cell_type": "code",
   "execution_count": 10,
   "id": "36121eea-faa0-4015-b455-d6811caa1fdd",
   "metadata": {},
   "outputs": [],
   "source": [
    "obj_class3 = class3()"
   ]
  },
  {
   "cell_type": "code",
   "execution_count": 11,
   "id": "7bbca094-9f13-49c7-9302-1a44d9696751",
   "metadata": {},
   "outputs": [
    {
     "data": {
      "text/plain": [
       "'this is my first class'"
      ]
     },
     "execution_count": 11,
     "metadata": {},
     "output_type": "execute_result"
    }
   ],
   "source": [
    "obj_class3.test_class1()"
   ]
  },
  {
   "cell_type": "code",
   "execution_count": 12,
   "id": "2f42bf79-b998-402b-b200-99ad5400e6b0",
   "metadata": {},
   "outputs": [
    {
     "data": {
      "text/plain": [
       "'this is my second class'"
      ]
     },
     "execution_count": 12,
     "metadata": {},
     "output_type": "execute_result"
    }
   ],
   "source": [
    "obj_class3.test_class2()"
   ]
  },
  {
   "cell_type": "code",
   "execution_count": 18,
   "id": "02d3fb95-4209-4a28-9efa-162a5a47c59f",
   "metadata": {},
   "outputs": [],
   "source": [
    "## multiple inheitance\n",
    "class class1:\n",
    "    def test_class1(self):\n",
    "        return \" ths is my car \""
   ]
  },
  {
   "cell_type": "code",
   "execution_count": 19,
   "id": "99507ae3-b831-4930-abc3-79313a45c7e7",
   "metadata": {},
   "outputs": [],
   "source": [
    "class class2:\n",
    "    def test_class2(self):\n",
    "        return \" this is my new car \""
   ]
  },
  {
   "cell_type": "code",
   "execution_count": 21,
   "id": "ec974831-9ced-45da-af36-4c7b8cd6640d",
   "metadata": {},
   "outputs": [],
   "source": [
    "class class3(class1, class2) :\n",
    "    pass"
   ]
  },
  {
   "cell_type": "code",
   "execution_count": 22,
   "id": "77feb755-7083-4081-a80a-dd61bf4e0077",
   "metadata": {},
   "outputs": [],
   "source": [
    "obj_class3 = class3()"
   ]
  },
  {
   "cell_type": "code",
   "execution_count": 23,
   "id": "61b01d99-2de6-4b56-a02d-c463635e5177",
   "metadata": {},
   "outputs": [
    {
     "data": {
      "text/plain": [
       "' ths is my car '"
      ]
     },
     "execution_count": 23,
     "metadata": {},
     "output_type": "execute_result"
    }
   ],
   "source": [
    "obj_class3.test_class1()"
   ]
  },
  {
   "cell_type": "code",
   "execution_count": 24,
   "id": "7067bbd9-327b-4fe4-942c-f14a1a76d531",
   "metadata": {},
   "outputs": [
    {
     "data": {
      "text/plain": [
       "' this is my new car '"
      ]
     },
     "execution_count": 24,
     "metadata": {},
     "output_type": "execute_result"
    }
   ],
   "source": [
    "obj_class3.test_class2()"
   ]
  },
  {
   "cell_type": "code",
   "execution_count": null,
   "id": "91450a79-7c44-4026-9d09-3c63fa0e27a1",
   "metadata": {},
   "outputs": [],
   "source": []
  }
 ],
 "metadata": {
  "kernelspec": {
   "display_name": "Python 3 (ipykernel)",
   "language": "python",
   "name": "python3"
  },
  "language_info": {
   "codemirror_mode": {
    "name": "ipython",
    "version": 3
   },
   "file_extension": ".py",
   "mimetype": "text/x-python",
   "name": "python",
   "nbconvert_exporter": "python",
   "pygments_lexer": "ipython3",
   "version": "3.10.8"
  }
 },
 "nbformat": 4,
 "nbformat_minor": 5
}
